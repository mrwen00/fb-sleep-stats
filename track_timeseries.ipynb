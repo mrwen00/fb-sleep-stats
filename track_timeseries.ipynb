{
 "cells": [
  {
   "cell_type": "code",
   "execution_count": 1,
   "metadata": {
    "autoscroll": false,
    "collapsed": false,
    "ein.hycell": false,
    "ein.tags": "worksheet-0",
    "slideshow": {
     "slide_type": "-"
    }
   },
   "outputs": [
    {
     "name": "stderr",
     "output_type": "stream",
     "text": [
      "/home/mrwen/anaconda2/envs/vision3/lib/python3.6/site-packages/IPython/core/display.py:689: UserWarning:\n",
      "\n",
      "Consider using IPython.display.IFrame instead\n",
      "\n"
     ]
    },
    {
     "data": {
      "text/html": [
       "<iframe id=\"igraph\" scrolling=\"no\" style=\"border:none;\" seamless=\"seamless\" src=\"https://plot.ly/~mrwen00/6.embed\" height=\"525px\" width=\"100%\"></iframe>"
      ],
      "text/plain": [
       "<plotly.tools.PlotlyDisplay object>"
      ]
     },
     "execution_count": 1,
     "metadata": {},
     "output_type": "execute_result"
    }
   ],
   "source": [
    "import plotly.plotly as py\n",
    "import plotly.graph_objs as go\n",
    "import datetime\n",
    "import pandas as pd\n",
    "\n",
    "#df = pd.read_csv('time_data.csv')\n",
    "#df.time = [pd.to_datetime(int(item/(1000*60)) + 60*7,unit='m') for item in df.time]\n",
    "\n",
    "import json \n",
    "import pytz\n",
    "with open('db.json') as f:\n",
    "    raw = json.load(f)\n",
    "data = raw['users']['100009870698560']\n",
    "#data = raw['users']['1302496907']\n",
    "plot_data = []\n",
    "plot_label = []\n",
    "\n",
    "data.append(int(datetime.datetime.now(tz=pytz.utc).timestamp() * 1000) )\n",
    "\n",
    "for i in range(len(data)-1):\n",
    "    item = data[i]\n",
    "    item_next = data[i+1]\n",
    "    \n",
    "    plot_data.append(item)\n",
    "    plot_label.append(1)\n",
    "    \n",
    "    delta = item_next - item\n",
    "    threshold = 10 * 60 * 1000\n",
    "    aug_item = item\n",
    "    while (delta > threshold and aug_item < item_next): # greater 10 min\n",
    "        aug_item += threshold        \n",
    "        if aug_item < item_next:\n",
    "            plot_data.append(aug_item)\n",
    "            plot_label.append(0)\n",
    "\n",
    "df = {\n",
    "    'time': [],\n",
    "    'label': []\n",
    "}\n",
    "df['time']=[pd.to_datetime(int( item/(1000*60) ) + 60*7,unit='m') for item in plot_data]\n",
    "df['label']=plot_label\n",
    "\n",
    "trace_high = go.Scatter(\n",
    "                x=df['time'],\n",
    "                y=df['label'],\n",
    "                name = \"AAPL High\",\n",
    "                line = dict(color = '#17BECF'),\n",
    "                opacity = 0.8)\n",
    "\n",
    "data = [trace_high]\n",
    "\n",
    "layout = dict(\n",
    "    title = \"Manually Set Date Range\",\n",
    "    xaxis = dict(\n",
    "        range = ['2019-03-01 23:00',str(datetime.datetime.now())])\n",
    ")\n",
    "\n",
    "fig = dict(data=data, layout=layout)\n",
    "py.iplot(fig, filename = \"Manually Set Range\")"
   ]
  }
 ],
 "metadata": {
  "kernelspec": {
   "display_name": "Python 3",
   "name": "python3"
  },
  "language_info": {
   "codemirror_mode": {
    "name": "ipython",
    "version": 3
   },
   "file_extension": ".py",
   "mimetype": "text/x-python",
   "name": "python",
   "nbconvert_exporter": "python",
   "pygments_lexer": "ipython3",
   "version": "3.6.6"
  },
  "name": "Untitled1.ipynb"
 },
 "nbformat": 4,
 "nbformat_minor": 2
}
